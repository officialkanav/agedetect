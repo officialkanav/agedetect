{
  "nbformat": 4,
  "nbformat_minor": 0,
  "metadata": {
    "colab": {
      "name": "face.ipynb",
      "version": "0.3.2",
      "provenance": []
    },
    "kernelspec": {
      "name": "python3",
      "display_name": "Python 3"
    },
    "accelerator": "GPU"
  },
  "cells": [
    {
      "metadata": {
        "id": "oA3GO8houDeD",
        "colab_type": "code",
        "colab": {
          "base_uri": "https://localhost:8080/",
          "height": 263
        },
        "outputId": "e53d1bb1-034f-42c6-91b0-d7ac27023593"
      },
      "cell_type": "code",
      "source": [
        "'''!pip install requests\n",
        "!pip install tqdm\n",
        "import requests\n",
        "!pip install wget\n",
        "import wget\n",
        "url = 'https://data.vision.ee.ethz.ch/cvl/rrothe/imdb-wiki/static/wiki.tar.gz'  \n",
        "wget.download(url, '/content')'''"
      ],
      "execution_count": 0,
      "outputs": [
        {
          "output_type": "stream",
          "text": [
            "Requirement already satisfied: requests in /usr/local/lib/python3.6/dist-packages (2.18.4)\n",
            "Requirement already satisfied: idna<2.7,>=2.5 in /usr/local/lib/python3.6/dist-packages (from requests) (2.6)\n",
            "Requirement already satisfied: urllib3<1.23,>=1.21.1 in /usr/local/lib/python3.6/dist-packages (from requests) (1.22)\n",
            "Requirement already satisfied: certifi>=2017.4.17 in /usr/local/lib/python3.6/dist-packages (from requests) (2018.8.24)\n",
            "Requirement already satisfied: chardet<3.1.0,>=3.0.2 in /usr/local/lib/python3.6/dist-packages (from requests) (3.0.4)\n",
            "Requirement already satisfied: tqdm in /usr/local/lib/python3.6/dist-packages (4.26.0)\n",
            "Collecting wget\n",
            "  Downloading https://files.pythonhosted.org/packages/47/6a/62e288da7bcda82b935ff0c6cfe542970f04e29c756b0e147251b2fb251f/wget-3.2.zip\n",
            "Building wheels for collected packages: wget\n",
            "  Running setup.py bdist_wheel for wget ... \u001b[?25l-\b \b\\\b \bdone\n",
            "\u001b[?25h  Stored in directory: /root/.cache/pip/wheels/40/15/30/7d8f7cea2902b4db79e3fea550d7d7b85ecb27ef992b618f3f\n",
            "Successfully built wget\n",
            "Installing collected packages: wget\n",
            "Successfully installed wget-3.2\n"
          ],
          "name": "stdout"
        }
      ]
    },
    {
      "metadata": {
        "id": "1lLwlPXk3fcu",
        "colab_type": "code",
        "colab": {}
      },
      "cell_type": "code",
      "source": [
        "'''import tarfile\n",
        "tar = tarfile.open(\"/content/wiki.tar.gz\")\n",
        "tar.extractall()\n",
        "tar.close()'''"
      ],
      "execution_count": 0,
      "outputs": []
    },
    {
      "metadata": {
        "id": "_gziei9WuNfk",
        "colab_type": "code",
        "colab": {
          "base_uri": "https://localhost:8080/",
          "height": 35
        },
        "outputId": "51ad3bb6-4fa0-4a49-ef40-9066a3165423"
      },
      "cell_type": "code",
      "source": [
        "import numpy as np\n",
        "import cv2\n",
        "face_cascade = cv2.CascadeClassifier('/content/drive/haarcascade_frontalface_default.xml')\n",
        "img = cv2.imread('/content/drive/face20.jpg')\n",
        "gray = cv2.cvtColor(img, cv2.COLOR_BGR2GRAY)\n"
      ],
      "execution_count": 3,
      "outputs": [
        {
          "output_type": "execute_result",
          "data": {
            "text/plain": [
              "True"
            ]
          },
          "metadata": {
            "tags": []
          },
          "execution_count": 3
        }
      ]
    },
    {
      "metadata": {
        "id": "2yOiybCaukr7",
        "colab_type": "code",
        "colab": {
          "base_uri": "https://localhost:8080/",
          "height": 334
        },
        "outputId": "7d555ac8-62c0-4779-de6b-6687aaa34c04"
      },
      "cell_type": "code",
      "source": [
        "faces = face_cascade.detectMultiScale(gray, 1.3, 5)\n",
        "for (x,y,w,h) in faces:\n",
        "    img = cv2.rectangle(img,(x,y),(x+w,y+h),(255,0,0),2)\n",
        "    roi_gray = gray[y:y+h, x:x+w]\n",
        "    roi_color = img[y:y+h, x:x+w]\n",
        "    \n",
        "cv2.imwrite('/content/drive/imaeg.png',img)"
      ],
      "execution_count": 3,
      "outputs": [
        {
          "output_type": "stream",
          "text": [
            "Collecting PyDrive\n",
            "\u001b[?25l  Downloading https://files.pythonhosted.org/packages/52/e0/0e64788e5dd58ce2d6934549676243dc69d982f198524be9b99e9c2a4fd5/PyDrive-1.3.1.tar.gz (987kB)\n",
            "\u001b[K    100% |████████████████████████████████| 993kB 7.1MB/s \n",
            "\u001b[?25hRequirement already satisfied: google-api-python-client>=1.2 in /usr/local/lib/python3.6/dist-packages (from PyDrive) (1.6.7)\n",
            "Requirement already satisfied: oauth2client>=4.0.0 in /usr/local/lib/python3.6/dist-packages (from PyDrive) (4.1.3)\n",
            "Requirement already satisfied: PyYAML>=3.0 in /usr/local/lib/python3.6/dist-packages (from PyDrive) (3.13)\n",
            "Requirement already satisfied: six<2dev,>=1.6.1 in /usr/local/lib/python3.6/dist-packages (from google-api-python-client>=1.2->PyDrive) (1.11.0)\n",
            "Requirement already satisfied: uritemplate<4dev,>=3.0.0 in /usr/local/lib/python3.6/dist-packages (from google-api-python-client>=1.2->PyDrive) (3.0.0)\n",
            "Requirement already satisfied: httplib2<1dev,>=0.9.2 in /usr/local/lib/python3.6/dist-packages (from google-api-python-client>=1.2->PyDrive) (0.11.3)\n",
            "Requirement already satisfied: pyasn1>=0.1.7 in /usr/local/lib/python3.6/dist-packages (from oauth2client>=4.0.0->PyDrive) (0.4.4)\n",
            "Requirement already satisfied: rsa>=3.1.4 in /usr/local/lib/python3.6/dist-packages (from oauth2client>=4.0.0->PyDrive) (4.0)\n",
            "Requirement already satisfied: pyasn1-modules>=0.0.5 in /usr/local/lib/python3.6/dist-packages (from oauth2client>=4.0.0->PyDrive) (0.2.2)\n",
            "Building wheels for collected packages: PyDrive\n",
            "  Running setup.py bdist_wheel for PyDrive ... \u001b[?25l-\b \b\\\b \bdone\n",
            "\u001b[?25h  Stored in directory: /root/.cache/pip/wheels/fa/d2/9a/d3b6b506c2da98289e5d417215ce34b696db856643bad779f4\n",
            "Successfully built PyDrive\n",
            "Installing collected packages: PyDrive\n",
            "Successfully installed PyDrive-1.3.1\n"
          ],
          "name": "stdout"
        }
      ]
    },
    {
      "metadata": {
        "id": "njWCC4n7uncI",
        "colab_type": "code",
        "colab": {}
      },
      "cell_type": "code",
      "source": [
        ""
      ],
      "execution_count": 0,
      "outputs": []
    },
    {
      "metadata": {
        "id": "CiBA5DMAvKeD",
        "colab_type": "code",
        "colab": {
          "base_uri": "https://localhost:8080/",
          "height": 2835
        },
        "outputId": "fe57f1b0-4f80-4456-be26-d003a7ae7200"
      },
      "cell_type": "code",
      "source": [
        "!apt-get install -y -qq software-properties-common python-software-properties module-init-tools\n",
        "#!add-apt-repository -y ppa:alessandro-strada/ppa 2>&1 > /dev/null\n",
        "#!apt-get update -qq 2>&1 > /dev/null\n",
        "#!apt-get -y install -qq google-drive-ocamlfuse fuse\n",
        "!wget https://launchpad.net/~alessandro-strada/+archive/ubuntu/google-drive-ocamlfuse-beta/+build/15331130/+files/google-drive-ocamlfuse_0.7.0-0ubuntu1_amd64.deb\n",
        "!dpkg -i google-drive-ocamlfuse_0.7.0-0ubuntu1_amd64.deb\n",
        "!apt-get install -f\n",
        "!apt-get -y install -qq fuse\n",
        "from google.colab import auth\n",
        "auth.authenticate_user()\n",
        "from oauth2client.client import GoogleCredentials\n",
        "creds = GoogleCredentials.get_application_default()\n",
        "import getpass\n",
        "!google-drive-ocamlfuse -headless -id={creds.client_id} -secret={creds.client_secret} < /dev/null 2>&1 | grep URL\n",
        "vcode = getpass.getpass()\n",
        "!echo {vcode} | google-drive-ocamlfuse -headless -id={creds.client_id} -secret={creds.client_secret}"
      ],
      "execution_count": 1,
      "outputs": [
        {
          "output_type": "stream",
          "text": [
            "Preconfiguring packages ...\n",
            "Selecting previously unselected package cron.\n",
            "(Reading database ... 18408 files and directories currently installed.)\n",
            "Preparing to unpack .../00-cron_3.0pl1-128ubuntu5_amd64.deb ...\n",
            "Unpacking cron (3.0pl1-128ubuntu5) ...\n",
            "Selecting previously unselected package libapparmor1:amd64.\n",
            "Preparing to unpack .../01-libapparmor1_2.11.0-2ubuntu17.1_amd64.deb ...\n",
            "Unpacking libapparmor1:amd64 (2.11.0-2ubuntu17.1) ...\n",
            "Selecting previously unselected package libdbus-1-3:amd64.\n",
            "Preparing to unpack .../02-libdbus-1-3_1.10.22-1ubuntu1_amd64.deb ...\n",
            "Unpacking libdbus-1-3:amd64 (1.10.22-1ubuntu1) ...\n",
            "Selecting previously unselected package dbus.\n",
            "Preparing to unpack .../03-dbus_1.10.22-1ubuntu1_amd64.deb ...\n",
            "Unpacking dbus (1.10.22-1ubuntu1) ...\n",
            "Selecting previously unselected package dirmngr.\n",
            "Preparing to unpack .../04-dirmngr_2.1.15-1ubuntu8.1_amd64.deb ...\n",
            "Unpacking dirmngr (2.1.15-1ubuntu8.1) ...\n",
            "Selecting previously unselected package distro-info-data.\n",
            "Preparing to unpack .../05-distro-info-data_0.36ubuntu0.2_all.deb ...\n",
            "Unpacking distro-info-data (0.36ubuntu0.2) ...\n",
            "Selecting previously unselected package libkmod2:amd64.\n",
            "Preparing to unpack .../06-libkmod2_24-1ubuntu2_amd64.deb ...\n",
            "Unpacking libkmod2:amd64 (24-1ubuntu2) ...\n",
            "Selecting previously unselected package kmod.\n",
            "Preparing to unpack .../07-kmod_24-1ubuntu2_amd64.deb ...\n",
            "Unpacking kmod (24-1ubuntu2) ...\n",
            "Selecting previously unselected package lsb-release.\n",
            "Preparing to unpack .../08-lsb-release_9.20160110ubuntu5_all.deb ...\n",
            "Unpacking lsb-release (9.20160110ubuntu5) ...\n",
            "Selecting previously unselected package libgirepository-1.0-1:amd64.\n",
            "Preparing to unpack .../09-libgirepository-1.0-1_1.54.1-1_amd64.deb ...\n",
            "Unpacking libgirepository-1.0-1:amd64 (1.54.1-1) ...\n",
            "Selecting previously unselected package gir1.2-glib-2.0:amd64.\n",
            "Preparing to unpack .../10-gir1.2-glib-2.0_1.54.1-1_amd64.deb ...\n",
            "Unpacking gir1.2-glib-2.0:amd64 (1.54.1-1) ...\n",
            "Selecting previously unselected package iso-codes.\n",
            "Preparing to unpack .../11-iso-codes_3.75-1_all.deb ...\n",
            "Unpacking iso-codes (3.75-1) ...\n",
            "Selecting previously unselected package libdbus-glib-1-2:amd64.\n",
            "Preparing to unpack .../12-libdbus-glib-1-2_0.108-2_amd64.deb ...\n",
            "Unpacking libdbus-glib-1-2:amd64 (0.108-2) ...\n",
            "Selecting previously unselected package python-apt-common.\n",
            "Preparing to unpack .../13-python-apt-common_1.4.0~beta3build2_all.deb ...\n",
            "Unpacking python-apt-common (1.4.0~beta3build2) ...\n",
            "Selecting previously unselected package python3-apt.\n",
            "Preparing to unpack .../14-python3-apt_1.4.0~beta3build2_amd64.deb ...\n",
            "Unpacking python3-apt (1.4.0~beta3build2) ...\n",
            "Selecting previously unselected package python3-dbus.\n",
            "Preparing to unpack .../15-python3-dbus_1.2.4-1build3_amd64.deb ...\n",
            "Unpacking python3-dbus (1.2.4-1build3) ...\n",
            "Selecting previously unselected package python3-gi.\n",
            "Preparing to unpack .../16-python3-gi_3.24.1-2build1_amd64.deb ...\n",
            "Unpacking python3-gi (3.24.1-2build1) ...\n",
            "Selecting previously unselected package module-init-tools.\n",
            "Preparing to unpack .../17-module-init-tools_24-1ubuntu2_all.deb ...\n",
            "Unpacking module-init-tools (24-1ubuntu2) ...\n",
            "Selecting previously unselected package python-apt.\n",
            "Preparing to unpack .../18-python-apt_1.4.0~beta3build2_amd64.deb ...\n",
            "Unpacking python-apt (1.4.0~beta3build2) ...\n",
            "Selecting previously unselected package python-pycurl.\n",
            "Preparing to unpack .../19-python-pycurl_7.43.0-2build2_amd64.deb ...\n",
            "Unpacking python-pycurl (7.43.0-2build2) ...\n",
            "Selecting previously unselected package python-software-properties.\n",
            "Preparing to unpack .../20-python-software-properties_0.96.24.17_all.deb ...\n",
            "Unpacking python-software-properties (0.96.24.17) ...\n",
            "Selecting previously unselected package python3-software-properties.\n",
            "Preparing to unpack .../21-python3-software-properties_0.96.24.17_all.deb ...\n",
            "Unpacking python3-software-properties (0.96.24.17) ...\n",
            "Selecting previously unselected package software-properties-common.\n",
            "Preparing to unpack .../22-software-properties-common_0.96.24.17_all.deb ...\n",
            "Unpacking software-properties-common (0.96.24.17) ...\n",
            "Selecting previously unselected package unattended-upgrades.\n",
            "Preparing to unpack .../23-unattended-upgrades_0.98ubuntu1.1_all.deb ...\n",
            "Unpacking unattended-upgrades (0.98ubuntu1.1) ...\n",
            "Setting up python-apt-common (1.4.0~beta3build2) ...\n",
            "Setting up python3-apt (1.4.0~beta3build2) ...\n",
            "Setting up iso-codes (3.75-1) ...\n",
            "Setting up distro-info-data (0.36ubuntu0.2) ...\n",
            "Setting up python-pycurl (7.43.0-2build2) ...\n",
            "Setting up lsb-release (9.20160110ubuntu5) ...\n",
            "Setting up libgirepository-1.0-1:amd64 (1.54.1-1) ...\n",
            "Setting up libkmod2:amd64 (24-1ubuntu2) ...\n",
            "Setting up gir1.2-glib-2.0:amd64 (1.54.1-1) ...\n",
            "Processing triggers for libc-bin (2.26-0ubuntu2.1) ...\n",
            "Setting up libapparmor1:amd64 (2.11.0-2ubuntu17.1) ...\n",
            "Setting up unattended-upgrades (0.98ubuntu1.1) ...\n",
            "\n",
            "Creating config file /etc/apt/apt.conf.d/20auto-upgrades with new version\n",
            "\n",
            "Creating config file /etc/apt/apt.conf.d/50unattended-upgrades with new version\n",
            "invoke-rc.d: could not determine current runlevel\n",
            "invoke-rc.d: policy-rc.d denied execution of start.\n",
            "Setting up dirmngr (2.1.15-1ubuntu8.1) ...\n",
            "Setting up cron (3.0pl1-128ubuntu5) ...\n",
            "Adding group `crontab' (GID 102) ...\n",
            "Done.\n",
            "update-rc.d: warning: start and stop actions are no longer supported; falling back to defaults\n",
            "update-rc.d: warning: stop runlevel arguments (1) do not match cron Default-Stop values (none)\n",
            "invoke-rc.d: could not determine current runlevel\n",
            "invoke-rc.d: policy-rc.d denied execution of start.\n",
            "Setting up libdbus-1-3:amd64 (1.10.22-1ubuntu1) ...\n",
            "Setting up kmod (24-1ubuntu2) ...\n",
            "Setting up libdbus-glib-1-2:amd64 (0.108-2) ...\n",
            "Setting up python3-gi (3.24.1-2build1) ...\n",
            "Setting up module-init-tools (24-1ubuntu2) ...\n",
            "Setting up python3-software-properties (0.96.24.17) ...\n",
            "Setting up dbus (1.10.22-1ubuntu1) ...\n",
            "Setting up python-apt (1.4.0~beta3build2) ...\n",
            "Setting up python3-dbus (1.2.4-1build3) ...\n",
            "Setting up python-software-properties (0.96.24.17) ...\n",
            "Setting up software-properties-common (0.96.24.17) ...\n",
            "Processing triggers for libc-bin (2.26-0ubuntu2.1) ...\n",
            "Processing triggers for dbus (1.10.22-1ubuntu1) ...\n",
            "\n",
            "Redirecting output to ‘wget-log’.\n",
            "Selecting previously unselected package google-drive-ocamlfuse.\n",
            "(Reading database ... 19816 files and directories currently installed.)\n",
            "Preparing to unpack google-drive-ocamlfuse_0.7.0-0ubuntu1_amd64.deb ...\n",
            "Unpacking google-drive-ocamlfuse (0.7.0-0ubuntu1) ...\n",
            "\u001b[1mdpkg:\u001b[0m dependency problems prevent configuration of google-drive-ocamlfuse:\n",
            " google-drive-ocamlfuse depends on libfuse2 (>= 2.8); however:\n",
            "  Package libfuse2 is not installed.\n",
            "\n",
            "\u001b[1mdpkg:\u001b[0m error processing package google-drive-ocamlfuse (--install):\n",
            " dependency problems - leaving unconfigured\n",
            "Errors were encountered while processing:\n",
            " google-drive-ocamlfuse\n",
            "Reading package lists... Done\n",
            "Building dependency tree       \n",
            "Reading state information... Done\n",
            "Correcting dependencies... Done\n",
            "The following additional packages will be installed:\n",
            "  libfuse2\n",
            "Suggested packages:\n",
            "  fuse\n",
            "The following NEW packages will be installed:\n",
            "  libfuse2\n",
            "0 upgraded, 1 newly installed, 0 to remove and 0 not upgraded.\n",
            "1 not fully installed or removed.\n",
            "Need to get 80.9 kB of archives.\n",
            "After this operation, 313 kB of additional disk space will be used.\n",
            "Get:1 http://archive.ubuntu.com/ubuntu artful/main amd64 libfuse2 amd64 2.9.7-1ubuntu1 [80.9 kB]\n",
            "Fetched 80.9 kB in 0s (165 kB/s)\n",
            "Selecting previously unselected package libfuse2:amd64.\n",
            "(Reading database ... 19821 files and directories currently installed.)\n",
            "Preparing to unpack .../libfuse2_2.9.7-1ubuntu1_amd64.deb ...\n",
            "Unpacking libfuse2:amd64 (2.9.7-1ubuntu1) ...\n",
            "Setting up libfuse2:amd64 (2.9.7-1ubuntu1) ...\n",
            "Processing triggers for libc-bin (2.26-0ubuntu2.1) ...\n",
            "Setting up google-drive-ocamlfuse (0.7.0-0ubuntu1) ...\n",
            "Selecting previously unselected package fuse.\n",
            "(Reading database ... 19833 files and directories currently installed.)\n",
            "Preparing to unpack .../fuse_2.9.7-1ubuntu1_amd64.deb ...\n",
            "Unpacking fuse (2.9.7-1ubuntu1) ...\n",
            "Setting up fuse (2.9.7-1ubuntu1) ...\n",
            "Please, open the following URL in a web browser: https://accounts.google.com/o/oauth2/auth?client_id=32555940559.apps.googleusercontent.com&redirect_uri=urn%3Aietf%3Awg%3Aoauth%3A2.0%3Aoob&scope=https%3A%2F%2Fwww.googleapis.com%2Fauth%2Fdrive&response_type=code&access_type=offline&approval_prompt=force\n",
            "··········\n",
            "Please, open the following URL in a web browser: https://accounts.google.com/o/oauth2/auth?client_id=32555940559.apps.googleusercontent.com&redirect_uri=urn%3Aietf%3Awg%3Aoauth%3A2.0%3Aoob&scope=https%3A%2F%2Fwww.googleapis.com%2Fauth%2Fdrive&response_type=code&access_type=offline&approval_prompt=force\n",
            "Please enter the verification code: Access token retrieved correctly.\n"
          ],
          "name": "stdout"
        }
      ]
    },
    {
      "metadata": {
        "id": "eVQeccpbyN1Q",
        "colab_type": "code",
        "colab": {}
      },
      "cell_type": "code",
      "source": [
        "!mkdir -p drive\n",
        "!google-drive-ocamlfuse drive"
      ],
      "execution_count": 0,
      "outputs": []
    },
    {
      "metadata": {
        "id": "MtSXLmJsu60N",
        "colab_type": "code",
        "colab": {
          "base_uri": "https://localhost:8080/",
          "height": 55
        },
        "outputId": "e3a98896-5cf2-4938-d441-f8bcd3758267"
      },
      "cell_type": "code",
      "source": [
        ""
      ],
      "execution_count": 42,
      "outputs": [
        {
          "output_type": "stream",
          "text": [
            "['dist-packages', 'quopri.py', 'smtplib.py', 'string.pyc', 'bisect.py', 'tty.py', 'httplib.pyc', 'dumbdbm.py', 'multiprocessing', 'user.py', 'zipfile.py', 'ConfigParser.py', 'imputil.py', 'os2emxpath.py', 'dummy_threading.pyc', 'pstats.py', '_abcoll.py', 'asyncore.py', 'abc.py', 'statvfs.pyc', 'tempfile.py', 'wave.pyc', 'fileinput.py', 'sitecustomize.py', 'binhex.py', 'fnmatch.py', 'shelve.py', 'numbers.py', 'SimpleXMLRPCServer.pyc', 'smtplib.pyc', 'os.pyc', 'pyclbr.pyc', 'warnings.pyc', 'webbrowser.pyc', 'pydoc.py', 'SocketServer.pyc', 'StringIO.pyc', 'rfc822.pyc', 'whichdb.py', 'colorsys.py', 'csv.pyc', 'ntpath.pyc', 'dbhash.pyc', 'imaplib.pyc', 'urllib.py', 'sunau.pyc', 'fractions.pyc', 're.py', 'os.py', 'ensurepip', 'UserList.pyc', 'htmlentitydefs.pyc', 'MimeWriter.pyc', 'tabnanny.pyc', 'shlex.py', 'keyword.py', 'wsgiref.egg-info', 'gettext.pyc', '_strptime.pyc', 'cmd.pyc', 'pickletools.pyc', 'mailcap.pyc', 'encodings', 'dircache.pyc', 'nntplib.py', 'sre_compile.py', 'fileinput.pyc', 'site.pyc', 'imghdr.pyc', 'statvfs.py', 'ftplib.pyc', 'xdrlib.pyc', 'StringIO.py', 'sgmllib.py', 'sched.pyc', 'rlcompleter.pyc', 'UserString.pyc', 'filecmp.py', 'ssl.pyc', 'decimal.pyc', 'formatter.pyc', 'sha.py', 'fpformat.py', 'uu.pyc', 'multifile.pyc', 'plistlib.py', 'getopt.py', 'sre_constants.py', 'pprint.pyc', 'symbol.py', 'mimify.pyc', 'Bastion.py', 'repr.pyc', 'UserList.py', 'collections.py', 'netrc.pyc', 'config-x86_64-linux-gnu', 'codecs.pyc', 'md5.py', '__phello__.foo.py', 'ftplib.py', 'shlex.pyc', 'pickle.py', 'SocketServer.py', 'uuid.pyc', '__phello__.foo.pyc', 'md5.pyc', 'tempfile.pyc', 'rlcompleter.py', 'linecache.py', 'macurl2path.py', 'stringprep.pyc', 'pprint.py', 'modulefinder.py', 'UserDict.pyc', 'uu.py', 'platform.pyc', 'aifc.pyc', 'sre_parse.pyc', 'getpass.pyc', 'poplib.pyc', 'genericpath.pyc', 'chunk.pyc', 'plat-x86_64-linux-gnu', 'hotshot', 'types.py', 'dumbdbm.pyc', 'ntpath.py', 'dis.py', 'sunaudio.py', 'this.py', 'copy_reg.py', 'contextlib.pyc', 'runpy.py', 'cgitb.py', 'dis.pyc', 'functools.py', 'struct.py', 'codeop.pyc', 'posixfile.pyc', 'sets.py', 'lib-tk', 'sre_parse.py', 'argparse.egg-info', 'urlparse.py', 'DocXMLRPCServer.pyc', 'stringold.pyc', 'unittest', 'imghdr.py', 'pdb.doc', 'xmllib.pyc', 'compiler', 'io.pyc', 'sysconfig.py', '_weakrefset.pyc', 'poplib.py', 'os2emxpath.pyc', 'sndhdr.pyc', 'atexit.py', 'difflib.py', 'telnetlib.py', 'optparse.py', 'dummy_thread.pyc', 'weakref.py', 'base64.py', 'wsgiref', 'struct.pyc', 'audiodev.py', 'Cookie.pyc', 'gettext.py', '_abcoll.pyc', 'CGIHTTPServer.pyc', 'hashlib.pyc', 'gzip.pyc', 'csv.py', 'socket.py', 'sha.pyc', 'bsddb', 'sre_compile.pyc', 'opcode.pyc', 'DocXMLRPCServer.py', 'whichdb.pyc', 'tarfile.pyc', '__future__.py', 'robotparser.pyc', 'asyncore.pyc', 'htmllib.pyc', 'mimify.py', 'trace.py', 'mimetypes.pyc', '_weakrefset.py', 'rfc822.py', 'popen2.pyc', 'sqlite3', 'abc.pyc', 'rexec.pyc', 'uuid.py', 'distutils', 'py_compile.pyc', 'anydbm.pyc', 'SimpleXMLRPCServer.py', 'pyclbr.py', 'Bastion.pyc', '_sysconfigdata.py', 'mimetools.py', 'tarfile.py', 'mimetools.pyc', 'doctest.py', 'decimal.py', 'colorsys.pyc', 'Queue.pyc', 'json', 'urllib2.py', 'optparse.pyc', 'stat.py', 'urlparse.pyc', 'difflib.pyc', 'ctypes', 'sched.py', 'chunk.py', 'xdrlib.py', 'site.py', 'profile.py', 'tokenize.py', 'stringold.py', 'toaiff.py', 'UserDict.py', 'posixpath.py', 'pkgutil.pyc', '_strptime.py', 'shutil.pyc', 'threading.py', 'getopt.pyc', 'macurl2path.pyc', 'netrc.py', '_MozillaCookieJar.py', 'urllib.pyc', 'heapq.pyc', 'this.pyc', 'inspect.pyc', 'hmac.py', 'collections.pyc', '_pyio.py', 'importlib', 'symtable.pyc', 'argparse.py', 'stringprep.py', 'atexit.pyc', 'pkgutil.py', 'pty.pyc', 'random.pyc', 'sre_constants.pyc', 'random.py', 'LICENSE.txt', 'ihooks.py', 'CGIHTTPServer.py', 'copy.py', 'opcode.py', 'token.pyc', 'subprocess.py', 'dircache.py', 'logging', 'traceback.py', 'zipfile.pyc', 'commands.py', 'pdb.py', 'new.py', 'textwrap.pyc', 'sre.py', 'mailcap.py', 'glob.pyc', 'compileall.pyc', 'doctest.pyc', 'macpath.pyc', 'symbol.pyc', 'curses', 'bisect.pyc', 'dbhash.py', 'dummy_thread.py', 'platform.py', 'timeit.py', 'sunaudio.pyc', 'warnings.py', 'macpath.py', 'BaseHTTPServer.py', 'xml', '_threading_local.py', 'subprocess.pyc', '__future__.pyc', 'inspect.py', 'pickle.pyc', 'webbrowser.py', 'email', 'mutex.pyc', 'asynchat.py', 'toaiff.pyc', 'telnetlib.pyc', 'plistlib.pyc', 'sndhdr.py', '_osx_support.pyc', 'quopri.pyc', 'string.py', 'HTMLParser.py', 're.pyc', 'contextlib.py', 'pipes.pyc', 'dummy_threading.py', 'cookielib.py', 'cookielib.pyc', 'htmllib.py', 'numbers.pyc', 'code.pyc', 'sunau.py', 'getpass.py', 'formatter.py', 'filecmp.pyc', 'types.pyc', 'cgitb.pyc', 'tty.pyc', 'copy_reg.pyc', 'stat.pyc', 'htmlentitydefs.py', 'compileall.py', 'asynchat.pyc', 'pydoc_data', 'aifc.py', 'fpformat.pyc', 'SimpleHTTPServer.pyc', '_MozillaCookieJar.pyc', 'audiodev.pyc', 'ast.pyc', 'BaseHTTPServer.pyc', 'functools.pyc', 'user.pyc', 'MimeWriter.py', 'pipes.py', 'binhex.pyc', 'httplib.py', 'urllib2.pyc', 'UserString.py', 'pydoc.pyc', 'smtpd.py', '_pyio.pyc', 'token.py', 'codeop.py', 'popen2.py', 'bdb.py', 'mailbox.py', 'mhlib.pyc', 'markupbase.py', 'timeit.pyc', 'mimetypes.py', 'pty.py', 'Cookie.py', 'locale.pyc', 'rexec.py', 'copy.pyc', 'fractions.py', '_LWPCookieJar.pyc', '_osx_support.py', 'heapq.py', 'tokenize.pyc', 'mutex.py', 'cgi.pyc', 'shelve.pyc', 'imaplib.py', 'genericpath.py', 'smtpd.pyc', 'socket.pyc', 'xmlrpclib.py', 'lib2to3', 'xmlrpclib.pyc', 'mailbox.pyc', 'base64.pyc', 'multifile.py', 'ConfigParser.pyc', 'modulefinder.pyc', 'commands.pyc', 'mhlib.py', 'nntplib.pyc', 'glob.py', 'repr.py', 'posixpath.pyc', 'cProfile.pyc', 'shutil.py', 'gzip.py', 'py_compile.py', 'cgi.py', 'textwrap.py', 'new.pyc', 'lib-dynload', 'imputil.pyc', 'traceback.pyc', 'cmd.py', 'anydbm.py', 'linecache.pyc', 'antigravity.py', 'SimpleHTTPServer.py', 'Queue.py', 'threading.pyc', 'pickletools.py', 'ast.py', 'markupbase.pyc', 'symtable.py', 'bdb.pyc', 'robotparser.py', 'locale.py', 'argparse.pyc', 'fnmatch.pyc', 'tabnanny.py', 'io.py', 'cProfile.py', 'wave.py', 'calendar.py', 'nturl2path.pyc', 'sitecustomize.pyc', 'code.py', 'hmac.pyc', 'sets.pyc', 'keyword.pyc', 'runpy.pyc', '_sysconfigdata.pyc', 'posixfile.py', 'ihooks.pyc', 'weakref.pyc', 'pdb.pyc', 'nturl2path.py', '_LWPCookieJar.py', 'sgmllib.pyc', 'calendar.pyc', 'ssl.py', 'codecs.py', 'sre.pyc', 'antigravity.pyc', 'pstats.pyc', 'test', 'HTMLParser.pyc', 'xmllib.py', 'hashlib.py', 'sysconfig.pyc', 'trace.pyc', 'profile.pyc', '_threading_local.pyc']\n"
          ],
          "name": "stdout"
        }
      ]
    }
  ]
}